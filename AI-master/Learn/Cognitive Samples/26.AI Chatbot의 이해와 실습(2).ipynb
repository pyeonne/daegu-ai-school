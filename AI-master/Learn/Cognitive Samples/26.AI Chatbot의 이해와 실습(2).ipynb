{
  "cells": [
    {
      "metadata": {
        "collapsed": true
      },
      "cell_type": "markdown",
      "source": "# Chatbot Services"
    },
    {
      "metadata": {},
      "cell_type": "markdown",
      "source": "## Lanugage Understanding"
    },
    {
      "metadata": {
        "trusted": true
      },
      "cell_type": "code",
      "source": "import requests\nimport json",
      "execution_count": 1,
      "outputs": []
    },
    {
      "metadata": {
        "trusted": true
      },
      "cell_type": "code",
      "source": "try:\n\n    key = 'f4ddfebe59354fca9e1ab86d4833b0ff'\n    endpoint = 'https://koreacentral.api.cognitive.microsoft.com' # such as 'westus2.api.cognitive.microsoft.com' \n    appId = 'e368d964-dcec-4cd2-a0fe-227302f70a99'\n    utterance = '자장면 두그릇 보내줘'\n\n    headers = {\n    }\n\n    params ={\n        'query': utterance,\n        'timezoneOffset': '0',\n        'verbose': 'true',\n        'show-all-intents': 'true',\n        'spellCheck': 'false',\n        'staging': 'false',\n        'subscription-key': key\n    }\n    \n    str = '%s/luis/v2.0/apps/%s?verbose=true&timezoneOffset=0&subscription-key=%s&q=%s'% (endpoint, appId, key,utterance)\n    print(str)\n    r = requests.get(str)\n\nexcept Exception as e:\n    print(f'{e}')",
      "execution_count": 4,
      "outputs": [
        {
          "output_type": "stream",
          "text": "https://koreacentral.api.cognitive.microsoft.com/luis/v2.0/apps/e368d964-dcec-4cd2-a0fe-227302f70a99?verbose=true&timezoneOffset=0&subscription-key=f4ddfebe59354fca9e1ab86d4833b0ff&q=자장면 두그릇 보내줘\n",
          "name": "stdout"
        }
      ]
    },
    {
      "metadata": {
        "trusted": true
      },
      "cell_type": "code",
      "source": "r.json()",
      "execution_count": 5,
      "outputs": [
        {
          "output_type": "execute_result",
          "execution_count": 5,
          "data": {
            "text/plain": "{'query': '자장면 두그릇 보내줘',\n 'topScoringIntent': {'intent': 'Order', 'score': 0.944908261},\n 'intents': [{'intent': 'Order', 'score': 0.944908261},\n  {'intent': 'Greeting', 'score': 0.0333694331},\n  {'intent': 'None', 'score': 0.0107080005}],\n 'entities': [{'entity': '자 장 면',\n   'type': 'menu',\n   'startIndex': 0,\n   'endIndex': 2,\n   'score': 0.960172832},\n  {'entity': '두 그 릇',\n   'type': 'qantity',\n   'startIndex': 4,\n   'endIndex': 6,\n   'score': 0.978430748}]}"
          },
          "metadata": {}
        }
      ]
    },
    {
      "metadata": {
        "trusted": true
      },
      "cell_type": "markdown",
      "source": "## QnA Maker\n\nQnA Maker가 업데이트 되면서 API를 호출하는 방법과 사용방법이 많이 바뀌었습니다. 가장 최신의 자료로 업데이트 된 아래 링크를 참조해 주십시요 (2019-01-10)<br>\nhttps://docs.microsoft.com/ko-kr/azure/cognitive-services/qnamaker/quickstarts/python"
    },
    {
      "metadata": {
        "trusted": true
      },
      "cell_type": "code",
      "source": "import http.client, urllib.parse, json, time, sys",
      "execution_count": 82,
      "outputs": []
    },
    {
      "metadata": {
        "trusted": true
      },
      "cell_type": "code",
      "source": "host = 'kmooc-qnamaker2.azurewebsites.net'",
      "execution_count": 83,
      "outputs": []
    },
    {
      "metadata": {
        "trusted": true
      },
      "cell_type": "code",
      "source": "endpoint_key = '1ae838b2-15e6-4598-a41f-452a23479ef9'",
      "execution_count": 84,
      "outputs": []
    },
    {
      "metadata": {
        "trusted": true
      },
      "cell_type": "code",
      "source": "kb = 'b29e8b3d-ae98-445e-9978-94cc2b00037d'",
      "execution_count": 85,
      "outputs": []
    },
    {
      "metadata": {
        "trusted": true
      },
      "cell_type": "code",
      "source": "method = \"/qnamaker/knowledgebases/\" + kb + \"/generateAnswer\"",
      "execution_count": 86,
      "outputs": []
    },
    {
      "metadata": {
        "trusted": true
      },
      "cell_type": "code",
      "source": "question = {\n    'question': '시티투어 버스가 타고 싶어요?',\n    'top': 3\n}",
      "execution_count": 87,
      "outputs": []
    },
    {
      "metadata": {
        "trusted": true
      },
      "cell_type": "code",
      "source": "def pretty_print (content):\n# Note: We convert content to and from an object so we can pretty-print it.\n    return json.dumps(json.loads(content), indent=4)",
      "execution_count": 88,
      "outputs": []
    },
    {
      "metadata": {
        "trusted": true
      },
      "cell_type": "code",
      "source": "def get_answers (path, content):\n    print ('Calling ' + host + path + '.')\n    headers = {\n        'Authorization': 'EndpointKey ' + endpoint_key,\n        'Content-Type': 'application/json',\n        'Content-Length': len (content)\n    }\n    conn = http.client.HTTPSConnection(host)\n    conn.request (\"POST\", path, content, headers)\n    response = conn.getresponse ()\n    return response.read ()",
      "execution_count": 89,
      "outputs": []
    },
    {
      "metadata": {
        "trusted": true
      },
      "cell_type": "code",
      "source": "content = json.dumps(question)",
      "execution_count": 90,
      "outputs": []
    },
    {
      "metadata": {
        "trusted": true
      },
      "cell_type": "code",
      "source": "content",
      "execution_count": 91,
      "outputs": [
        {
          "output_type": "execute_result",
          "execution_count": 91,
          "data": {
            "text/plain": "'{\"question\": \"\\\\uc2dc\\\\ud2f0\\\\ud22c\\\\uc5b4 \\\\ubc84\\\\uc2a4\\\\uac00 \\\\ud0c0\\\\uace0 \\\\uc2f6\\\\uc5b4\\\\uc694?\", \"top\": 3}'"
          },
          "metadata": {}
        }
      ]
    },
    {
      "metadata": {
        "trusted": true
      },
      "cell_type": "code",
      "source": "result = get_answers (method, content)",
      "execution_count": 92,
      "outputs": [
        {
          "output_type": "stream",
          "text": "Calling kmooc-qnamaker2.azurewebsites.net/qnamaker/knowledgebases/b29e8b3d-ae98-445e-9978-94cc2b00037d/generateAnswer.\n",
          "name": "stdout"
        }
      ]
    },
    {
      "metadata": {
        "trusted": true
      },
      "cell_type": "code",
      "source": "result",
      "execution_count": 93,
      "outputs": [
        {
          "output_type": "execute_result",
          "execution_count": 93,
          "data": {
            "text/plain": "b'{\"answers\":[{\"questions\":[\"\\xec\\x84\\x9c\\xec\\x9a\\xb8\\xec\\x8b\\x9c\\xed\\x8b\\xb0\\xed\\x88\\xac\\xec\\x96\\xb4\\xeb\\xb2\\x84\\xec\\x8a\\xa4_\\xed\\x83\\x91\\xec\\x8a\\xb9 \\xec\\x84\\x9c\\xec\\x9a\\xb8\\xec\\x97\\x90 \\xec\\x9a\\xb4\\xec\\x98\\x81 \\xec\\xa4\\x91\\xec\\x9d\\xb8 \\xec\\x8b\\x9c\\xed\\x8b\\xb0\\xed\\x88\\xac\\xec\\x96\\xb4\\xeb\\xb2\\x84\\xec\\x8a\\xa4\\xeb\\x8a\\x94 \\xeb\\xac\\xb4\\xec\\x97\\x87\\xec\\x9d\\xb4 \\xec\\x9e\\x88\\xeb\\x82\\x98\\xec\\x9a\\x94?\"],\"answer\":\"\\xec\\x84\\x9c\\xec\\x9a\\xb8\\xec\\x97\\x90 \\xec\\x9a\\xb4\\xec\\x98\\x81 \\xec\\xa4\\x91\\xec\\x9d\\xb8 \\xec\\x8b\\x9c\\xed\\x8b\\xb0\\xed\\x88\\xac\\xec\\x96\\xb4\\xeb\\xb2\\x84\\xec\\x8a\\xa4\\xeb\\x8a\\x94 \\xeb\\x91\\x90 \\xed\\x9a\\x8c\\xec\\x82\\xac\\xea\\xb0\\x80 \\xec\\x9e\\x88\\xec\\x8a\\xb5\\xeb\\x8b\\x88\\xeb\\x8b\\xa4.\\xc2\\xa0\\xed\\x95\\x98\\xec\\x9d\\xb4\\xeb\\x8d\\xb0\\xec\\xbb\\xa4 \\xec\\x98\\xa4\\xed\\x94\\x88\\xed\\x83\\x91 \\xeb\\xb2\\x84\\xec\\x8a\\xa4\\xec\\x99\\x80 \\xed\\x8a\\xb8\\xeb\\xa1\\xa4\\xeb\\xa6\\xac \\xeb\\xb2\\x84\\xec\\x8a\\xa4\\xeb\\xa5\\xbc \\xec\\x9a\\xb4\\xec\\x98\\x81\\xed\\x95\\x98\\xeb\\x8a\\x94 \\xed\\x83\\x80\\xec\\x9d\\xb4\\xea\\xb1\\xb0\\xeb\\xb2\\x84\\xec\\x8a\\xa4, 2\\xec\\xb8\\xb5 \\xeb\\xb2\\x84\\xec\\x8a\\xa4\\xeb\\xa5\\xbc \\xec\\x9a\\xb4\\xec\\x98\\x81\\xed\\x95\\x98\\xeb\\x8a\\x94 \\xeb\\x85\\xb8\\xeb\\x9e\\x91\\xed\\x92\\x8d\\xec\\x84\\xa0\\xec\\x8b\\x9c\\xed\\x8b\\xb0\\xeb\\xb2\\x84\\xec\\x8a\\xa4\\xea\\xb0\\x80 \\xec\\x9e\\x88\\xec\\x8a\\xb5\\xeb\\x8b\\x88\\xeb\\x8b\\xa4. (\\xed\\x83\\x80\\xec\\x9d\\xb4\\xea\\xb1\\xb0\\xeb\\xb2\\x84\\xec\\x8a\\xa4: 02-777-6090, \\xeb\\x85\\xb8\\xeb\\x9e\\x91\\xed\\x92\\x8d\\xec\\x84\\xa0\\xec\\x8b\\x9c\\xed\\x8b\\xb0\\xeb\\xb2\\x84\\xec\\x8a\\xa4: 1544-4239)\",\"score\":67.98,\"id\":1,\"source\":\"https://korean.visitseoul.net/faq\",\"metadata\":[],\"context\":{\"isContextOnly\":false,\"prompts\":[]}}],\"debugInfo\":null,\"activeLearningEnabled\":false}'"
          },
          "metadata": {}
        }
      ]
    },
    {
      "metadata": {
        "trusted": true
      },
      "cell_type": "code",
      "source": "print (pretty_print(result.decode('UTF-8')))",
      "execution_count": 95,
      "outputs": [
        {
          "output_type": "stream",
          "text": "{\n    \"answers\": [\n        {\n            \"questions\": [\n                \"\\uc11c\\uc6b8\\uc2dc\\ud2f0\\ud22c\\uc5b4\\ubc84\\uc2a4_\\ud0d1\\uc2b9 \\uc11c\\uc6b8\\uc5d0 \\uc6b4\\uc601 \\uc911\\uc778 \\uc2dc\\ud2f0\\ud22c\\uc5b4\\ubc84\\uc2a4\\ub294 \\ubb34\\uc5c7\\uc774 \\uc788\\ub098\\uc694?\"\n            ],\n            \"answer\": \"\\uc11c\\uc6b8\\uc5d0 \\uc6b4\\uc601 \\uc911\\uc778 \\uc2dc\\ud2f0\\ud22c\\uc5b4\\ubc84\\uc2a4\\ub294 \\ub450 \\ud68c\\uc0ac\\uac00 \\uc788\\uc2b5\\ub2c8\\ub2e4.\\u00a0\\ud558\\uc774\\ub370\\ucee4 \\uc624\\ud508\\ud0d1 \\ubc84\\uc2a4\\uc640 \\ud2b8\\ub864\\ub9ac \\ubc84\\uc2a4\\ub97c \\uc6b4\\uc601\\ud558\\ub294 \\ud0c0\\uc774\\uac70\\ubc84\\uc2a4, 2\\uce35 \\ubc84\\uc2a4\\ub97c \\uc6b4\\uc601\\ud558\\ub294 \\ub178\\ub791\\ud48d\\uc120\\uc2dc\\ud2f0\\ubc84\\uc2a4\\uac00 \\uc788\\uc2b5\\ub2c8\\ub2e4. (\\ud0c0\\uc774\\uac70\\ubc84\\uc2a4: 02-777-6090, \\ub178\\ub791\\ud48d\\uc120\\uc2dc\\ud2f0\\ubc84\\uc2a4: 1544-4239)\",\n            \"score\": 67.98,\n            \"id\": 1,\n            \"source\": \"https://korean.visitseoul.net/faq\",\n            \"metadata\": [],\n            \"context\": {\n                \"isContextOnly\": false,\n                \"prompts\": []\n            }\n        }\n    ],\n    \"debugInfo\": null,\n    \"activeLearningEnabled\": false\n}\n",
          "name": "stdout"
        }
      ]
    },
    {
      "metadata": {
        "trusted": true
      },
      "cell_type": "code",
      "source": "result.decode('UTF-8')",
      "execution_count": 99,
      "outputs": [
        {
          "output_type": "execute_result",
          "execution_count": 99,
          "data": {
            "text/plain": "'{\"answers\":[{\"questions\":[\"서울시티투어버스_탑승 서울에 운영 중인 시티투어버스는 무엇이 있나요?\"],\"answer\":\"서울에 운영 중인 시티투어버스는 두 회사가 있습니다.\\xa0하이데커 오픈탑 버스와 트롤리 버스를 운영하는 타이거버스, 2층 버스를 운영하는 노랑풍선시티버스가 있습니다. (타이거버스: 02-777-6090, 노랑풍선시티버스: 1544-4239)\",\"score\":67.98,\"id\":1,\"source\":\"https://korean.visitseoul.net/faq\",\"metadata\":[],\"context\":{\"isContextOnly\":false,\"prompts\":[]}}],\"debugInfo\":null,\"activeLearningEnabled\":false}'"
          },
          "metadata": {}
        }
      ]
    },
    {
      "metadata": {
        "trusted": true
      },
      "cell_type": "code",
      "source": "",
      "execution_count": null,
      "outputs": []
    }
  ],
  "metadata": {
    "kernelspec": {
      "name": "python36",
      "display_name": "Python 3.6",
      "language": "python"
    },
    "language_info": {
      "mimetype": "text/x-python",
      "nbconvert_exporter": "python",
      "name": "python",
      "pygments_lexer": "ipython3",
      "version": "3.6.6",
      "file_extension": ".py",
      "codemirror_mode": {
        "version": 3,
        "name": "ipython"
      }
    }
  },
  "nbformat": 4,
  "nbformat_minor": 2
}