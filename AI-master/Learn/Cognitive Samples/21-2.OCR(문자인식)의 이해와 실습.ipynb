{
  "cells": [
    {
      "metadata": {
        "trusted": true
      },
      "cell_type": "markdown",
      "source": [
        "## OCR은 문자 인식을 하는 기술입니다. "
      ]
    },
    {
      "metadata": {},
      "cell_type": "markdown",
      "source": [
        "### 관련된 패키지를 import 합니다."
      ]
    },
    {
      "metadata": {
        "trusted": true
      },
      "cell_type": "code",
      "source": [
        "import requests"
      ],
      "execution_count": null,
      "outputs": []
    },
    {
      "metadata": {
        "trusted": true
      },
      "cell_type": "code",
      "source": [
        "import matplotlib.pyplot as plt\n",
        "from matplotlib.patches import Rectangle\n",
        "from PIL import Image\n",
        "from io import BytesIO"
      ],
      "execution_count": null,
      "outputs": []
    },
    {
      "metadata": {},
      "cell_type": "markdown",
      "source": [
        "### Subscription Key와 호출 URL을 셋팅 합니다. "
      ]
    },
    {
      "metadata": {
        "trusted": true
      },
      "cell_type": "code",
      "source": [
        "subscription_key = \"96776f60d6e94294982a080ef18221ee\"\n",
        "assert subscription_key"
      ],
      "execution_count": null,
      "outputs": []
    },
    {
      "metadata": {
        "trusted": true
      },
      "cell_type": "code",
      "source": [
        "vision_base_url = \"https://ywcomputervision.cognitiveservices.azure.com/vision/v2.0/\""
      ],
      "execution_count": null,
      "outputs": []
    },
    {
      "metadata": {
        "trusted": true
      },
      "cell_type": "code",
      "source": [
        "ocr_url = vision_base_url + \"ocr\""
      ],
      "execution_count": null,
      "outputs": []
    },
    {
      "metadata": {},
      "cell_type": "markdown",
      "source": [
        "### 분석할 이미지를 셋팅 한다. "
      ]
    },
    {
      "metadata": {
        "trusted": true
      },
      "cell_type": "code",
      "source": [
        "image_url = \"https://upload.wikimedia.org/wikipedia/commons/thumb/a/af/\" + \\\n",
        "    \"Atomist_quote_from_Democritus.png/338px-Atomist_quote_from_Democritus.png\""
      ],
      "execution_count": null,
      "outputs": []
    },
    {
      "metadata": {
        "trusted": true
      },
      "cell_type": "code",
      "source": [
        "image = Image.open(BytesIO(requests.get(image_url).content))\n",
        "image"
      ],
      "execution_count": null,
      "outputs": []
    },
    {
      "metadata": {},
      "cell_type": "markdown",
      "source": [
        "### 헤더 정보를 셋팅한다."
      ]
    },
    {
      "metadata": {
        "trusted": true
      },
      "cell_type": "code",
      "source": [
        "headers = {'Ocp-Apim-Subscription-Key': subscription_key}\n",
        "params  = {'language': 'unk', 'detectOrientation': 'true'}\n",
        "data    = {'url': image_url}"
      ],
      "execution_count": null,
      "outputs": []
    },
    {
      "metadata": {},
      "cell_type": "markdown",
      "source": [
        "### 서비스를 요청하고 결과를 확인한다."
      ]
    },
    {
      "metadata": {
        "trusted": true
      },
      "cell_type": "code",
      "source": [
        "response = requests.post(ocr_url, headers=headers, params=params, json=data)\n",
        "response.raise_for_status()"
      ],
      "execution_count": null,
      "outputs": []
    },
    {
      "metadata": {
        "trusted": true
      },
      "cell_type": "code",
      "source": [
        "analysis = response.json()"
      ],
      "execution_count": null,
      "outputs": []
    },
    {
      "metadata": {
        "trusted": true
      },
      "cell_type": "code",
      "source": [
        "analysis"
      ],
      "execution_count": null,
      "outputs": []
    },
    {
      "metadata": {
        "trusted": true
      },
      "cell_type": "code",
      "source": [
        "line_infos = [region[\"lines\"] for region in analysis[\"regions\"]]\n",
        "word_infos = []\n",
        "for line in line_infos:\n",
        "    for word_metadata in line:\n",
        "        for word_info in word_metadata[\"words\"]:\n",
        "            word_infos.append(word_info)\n",
        "word_infos"
      ],
      "execution_count": null,
      "outputs": []
    },
    {
      "metadata": {
        "trusted": true
      },
      "cell_type": "code",
      "source": [
        "plt.figure(figsize=(5, 5))\n",
        "image = Image.open(BytesIO(requests.get(image_url).content))\n",
        "ax = plt.imshow(image, alpha=0.5)\n",
        "for word in word_infos:\n",
        "    bbox = [int(num) for num in word[\"boundingBox\"].split(\",\")]\n",
        "    text = word[\"text\"]\n",
        "    origin = (bbox[0], bbox[1])\n",
        "    patch  = Rectangle(origin, bbox[2], bbox[3], fill=False, linewidth=2, color='y')\n",
        "    ax.axes.add_patch(patch)\n",
        "    plt.text(origin[0], origin[1], text, fontsize=20, weight=\"bold\", va=\"top\")\n",
        "plt.axis(\"off\")"
      ],
      "execution_count": null,
      "outputs": []
    },
    {
      "metadata": {},
      "cell_type": "markdown",
      "source": [
        "### 한글이 잘 되는지 테스트 한다."
      ]
    },
    {
      "metadata": {
        "trusted": true
      },
      "cell_type": "code",
      "source": [
        "image_url = \"https://www.unikorea.go.kr/unikorea/common/images/content/peace.png\""
      ],
      "execution_count": null,
      "outputs": []
    },
    {
      "metadata": {
        "trusted": true
      },
      "cell_type": "code",
      "source": [
        "image = Image.open(BytesIO(requests.get(image_url).content))\n",
        "image"
      ],
      "execution_count": null,
      "outputs": []
    },
    {
      "metadata": {
        "trusted": true
      },
      "cell_type": "code",
      "source": [
        "headers = {'Ocp-Apim-Subscription-Key': subscription_key}\n",
        "params  = {'language': 'ko', 'detectOrientation': 'true'}\n",
        "data    = {'url': image_url}"
      ],
      "execution_count": null,
      "outputs": []
    },
    {
      "metadata": {},
      "cell_type": "markdown",
      "source": [
        "지원하는 언어목록\n",
        "\n",
        "- unk (AutoDetect)\n",
        "- zh-Hans (ChineseSimplified)\n",
        "- zh-Hant (ChineseTraditional)\n",
        "- cs (Czech)\n",
        "- da (Danish)\n",
        "- nl (Dutch)\n",
        "- en (English)\n",
        "- fi (Finnish)\n",
        "- fr (French)\n",
        "- de (German)\n",
        "- el (Greek)\n",
        "- hu (Hungarian)\n",
        "- it (Italian)\n",
        "- ja (Japanese)\n",
        "- ko (Korean)\n",
        "- nb (Norwegian)\n",
        "- pl (Polish)\n",
        "- pt (Portuguese,\n",
        "- ru (Russian)\n",
        "- es (Spanish)\n",
        "- sv (Swedish)\n",
        "- tr (Turkish)\n",
        "- ar (Arabic)\n",
        "- ro (Romanian)\n",
        "- sr-Cyrl (SerbianCyrillic)\n",
        "- sr-Latn (SerbianLatin)\n",
        "- sk (Slovak)"
      ]
    },
    {
      "metadata": {
        "trusted": true
      },
      "cell_type": "code",
      "source": [
        "response = requests.post(ocr_url, headers=headers, params=params, json=data)\n",
        "response.raise_for_status()"
      ],
      "execution_count": null,
      "outputs": []
    },
    {
      "metadata": {
        "trusted": true
      },
      "cell_type": "code",
      "source": [
        "analysis = response.json()"
      ],
      "execution_count": null,
      "outputs": []
    },
    {
      "metadata": {
        "trusted": true
      },
      "cell_type": "code",
      "source": [
        "analysis"
      ],
      "execution_count": null,
      "outputs": []
    },
    {
      "metadata": {
        "trusted": true
      },
      "cell_type": "code",
      "source": [
        "line_infos = [region[\"lines\"] for region in analysis[\"regions\"]]\n",
        "word_infos = []\n",
        "for line in line_infos:\n",
        "    for word_metadata in line:\n",
        "        for word_info in word_metadata[\"words\"]:\n",
        "            word_infos.append(word_info)\n",
        "word_infos"
      ],
      "execution_count": null,
      "outputs": []
    },
    {
      "metadata": {
        "trusted": true
      },
      "cell_type": "code",
      "source": [],
      "execution_count": null,
      "outputs": []
    }
  ],
  "metadata": {
    "kernelspec": {
      "name": "python3",
      "display_name": "Python 3.8.2 64-bit",
      "metadata": {
        "interpreter": {
          "hash": "5edc29c2ed010d6458d71a83433b383a96a8cbd3efe8531bc90c4b8a5b8bcec9"
        }
      }
    },
    "language_info": {
      "mimetype": "text/x-python",
      "nbconvert_exporter": "python",
      "name": "python",
      "pygments_lexer": "ipython3",
      "version": "3.8.2-final",
      "file_extension": ".py",
      "codemirror_mode": {
        "version": 3,
        "name": "ipython"
      }
    }
  },
  "nbformat": 4,
  "nbformat_minor": 2
}