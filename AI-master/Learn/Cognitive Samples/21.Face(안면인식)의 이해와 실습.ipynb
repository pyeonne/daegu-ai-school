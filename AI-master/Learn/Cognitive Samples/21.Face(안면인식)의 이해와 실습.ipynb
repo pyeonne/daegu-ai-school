{
  "cells": [
    {
      "metadata": {
        "trusted": true
      },
      "cell_type": "markdown",
      "source": [
        "# Face API Sample\n",
        "\n",
        "face api는 인물 분석을 통해서 다양한 정보를 제공해 줍니다. Azure Portal에서 Face API를 먼저 생성하고 접속에 필요한 URL과 subscription key를 가져와서 보여 줍니다. "
      ]
    },
    {
      "metadata": {},
      "cell_type": "markdown",
      "source": [
        "관련된 라이브러리를 가져옵니다. \n",
        "request는 웹 통신을 위해서 가져오고 \n",
        "BytesIO, Image는 이미지를 처리하기 위해서 사용하고 있습니다. \n",
        "ImageDraw, ImageFont는 이미지 위에 선을 긋거나 글씨를 넣기 위해서 사용됩니다."
      ]
    },
    {
      "metadata": {
        "trusted": true,
        "scrolled": true
      },
      "cell_type": "code",
      "source": [
        "import requests\n",
        "from io import BytesIO\n",
        "from PIL import Image, ImageDraw, ImageFont"
      ],
      "execution_count": null,
      "outputs": []
    },
    {
      "metadata": {},
      "cell_type": "markdown",
      "source": [
        "Subscription Key와 서비스의 주소를 설정합니다. "
      ]
    },
    {
      "metadata": {
        "trusted": true,
        "scrolled": true
      },
      "cell_type": "code",
      "source": [
        "subscription_key = \"f2912d4b4751485ca80ac21e352b34b3\""
      ],
      "execution_count": null,
      "outputs": []
    },
    {
      "metadata": {
        "trusted": true,
        "scrolled": true
      },
      "cell_type": "code",
      "source": [
        "face_api_url='https://ywlab-face.cognitiveservices.azure.com/face/v1.0/detect'"
      ],
      "execution_count": null,
      "outputs": []
    },
    {
      "metadata": {},
      "cell_type": "markdown",
      "source": [
        "분석에 사용할 이미지를 확인 합니다. "
      ]
    },
    {
      "metadata": {
        "trusted": true,
        "scrolled": true
      },
      "cell_type": "code",
      "source": [
        "image_url = 'https://how-old.net/Images/faces2/main007.jpg'"
      ],
      "execution_count": null,
      "outputs": []
    },
    {
      "metadata": {
        "trusted": true,
        "scrolled": true
      },
      "cell_type": "code",
      "source": [
        "face_image = requests.get(image_url)"
      ],
      "execution_count": null,
      "outputs": []
    },
    {
      "metadata": {
        "trusted": true,
        "scrolled": true
      },
      "cell_type": "code",
      "source": [
        "img = Image.open(BytesIO(face_image.content))"
      ],
      "execution_count": null,
      "outputs": []
    },
    {
      "metadata": {
        "trusted": true,
        "scrolled": true
      },
      "cell_type": "code",
      "source": [
        "img"
      ],
      "execution_count": null,
      "outputs": []
    },
    {
      "metadata": {},
      "cell_type": "markdown",
      "source": [
        "헤더 정보를 설정합니다. "
      ]
    },
    {
      "metadata": {
        "trusted": true,
        "scrolled": true
      },
      "cell_type": "code",
      "source": [
        "headers = {'Ocp-Apim-Subscription-Key': subscription_key}"
      ],
      "execution_count": null,
      "outputs": []
    },
    {
      "metadata": {
        "trusted": true,
        "scrolled": true
      },
      "cell_type": "code",
      "source": [
        "params = {\n",
        "    'returnFaceId': 'true',\n",
        "    'returnFaceLandmarks': 'false',\n",
        "    'returnFaceAttributes': 'age,gender'\n",
        "}"
      ],
      "execution_count": null,
      "outputs": []
    },
    {
      "metadata": {
        "trusted": true,
        "scrolled": true
      },
      "cell_type": "code",
      "source": [
        "data = {'url': image_url}"
      ],
      "execution_count": null,
      "outputs": []
    },
    {
      "metadata": {},
      "cell_type": "markdown",
      "source": [
        "서비스를 호출해서 결과를 확인 합니다. "
      ]
    },
    {
      "metadata": {
        "trusted": true,
        "scrolled": true
      },
      "cell_type": "code",
      "source": [
        "response = requests.post(face_api_url, params=params, headers=headers, json=data)\n",
        "faces = response.json()"
      ],
      "execution_count": null,
      "outputs": []
    },
    {
      "metadata": {
        "trusted": true,
        "scrolled": true
      },
      "cell_type": "code",
      "source": [
        "faces"
      ],
      "execution_count": null,
      "outputs": []
    },
    {
      "metadata": {
        "trusted": true
      },
      "cell_type": "markdown",
      "source": [
        "얼굴에 사각형을 그리고 나이와 성별을 나타내는 함수를 만든다."
      ]
    },
    {
      "metadata": {
        "trusted": true,
        "scrolled": true
      },
      "cell_type": "code",
      "source": [
        "def CreatImage(faces):\n",
        "    for face in faces:\n",
        "        #Convert width height to a point in a rectangle\n",
        "        rect = face['faceRectangle']\n",
        "        left = rect['left']\n",
        "        top = rect['top']\n",
        "        bottom = left + rect['height']\n",
        "        right = top + rect['width']\n",
        "\n",
        "        draw.rectangle(((left, top), (bottom, right)), outline='red')\n",
        "\n",
        "        #Font location \n",
        "        fontX = rect['left']\n",
        "        fontY = left + rect['height'] - 18\n",
        "\n",
        "        #Face attributes\n",
        "        face_info = face['faceAttributes']\n",
        "        gender = face_info['gender']\n",
        "        \n",
        "        age = face_info['age']\n",
        "        result = \"Gender: \" + gender + \" Age: \" + str(age)\n",
        "\n",
        "        draw.text((fontX, fontY), result, fill='red')"
      ],
      "execution_count": null,
      "outputs": []
    },
    {
      "metadata": {
        "trusted": true,
        "scrolled": true
      },
      "cell_type": "code",
      "source": [
        "draw = ImageDraw.Draw(img)"
      ],
      "execution_count": null,
      "outputs": []
    },
    {
      "metadata": {
        "trusted": true,
        "scrolled": true
      },
      "cell_type": "code",
      "source": [
        "CreatImage(faces)"
      ],
      "execution_count": null,
      "outputs": []
    },
    {
      "metadata": {
        "trusted": true,
        "scrolled": true
      },
      "cell_type": "code",
      "source": [
        "img.show()"
      ],
      "execution_count": null,
      "outputs": []
    },
    {
      "metadata": {
        "trusted": true,
        "scrolled": true
      },
      "cell_type": "code",
      "source": [
        "img"
      ],
      "execution_count": null,
      "outputs": []
    },
    {
      "metadata": {},
      "cell_type": "markdown",
      "source": [
        "화면속의 사람들의 감정을 분석하기 위해서 emotion 속성으로 호출한다. "
      ]
    },
    {
      "metadata": {
        "trusted": true,
        "scrolled": true
      },
      "cell_type": "code",
      "source": [
        "params = {\n",
        "    'returnFaceId': 'true',\n",
        "    'returnFaceLandmarks': 'false',\n",
        "    'returnFaceAttributes': 'emotion'\n",
        "}"
      ],
      "execution_count": null,
      "outputs": []
    },
    {
      "metadata": {
        "trusted": true,
        "scrolled": true
      },
      "cell_type": "code",
      "source": [
        "response = requests.post(face_api_url, params=params, headers=headers, json=data)\n",
        "faces = response.json()"
      ],
      "execution_count": null,
      "outputs": []
    },
    {
      "metadata": {
        "trusted": true,
        "scrolled": true
      },
      "cell_type": "code",
      "source": [
        "faces"
      ],
      "execution_count": null,
      "outputs": []
    },
    {
      "metadata": {
        "trusted": true,
        "scrolled": true
      },
      "cell_type": "code",
      "source": [],
      "execution_count": null,
      "outputs": []
    },
    {
      "metadata": {
        "trusted": true
      },
      "cell_type": "code",
      "source": [],
      "execution_count": null,
      "outputs": []
    }
  ],
  "metadata": {
    "kernelspec": {
      "name": "python3",
      "display_name": "Python 3.8.2 64-bit",
      "metadata": {
        "interpreter": {
          "hash": "5edc29c2ed010d6458d71a83433b383a96a8cbd3efe8531bc90c4b8a5b8bcec9"
        }
      }
    },
    "language_info": {
      "mimetype": "text/x-python",
      "nbconvert_exporter": "python",
      "name": "python",
      "file_extension": ".py",
      "version": "3.8.2-final",
      "pygments_lexer": "ipython3",
      "codemirror_mode": {
        "version": 3,
        "name": "ipython"
      }
    }
  },
  "nbformat": 4,
  "nbformat_minor": 2
}