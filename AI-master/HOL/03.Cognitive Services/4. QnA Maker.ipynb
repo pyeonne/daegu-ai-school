{
 "cells": [
  {
   "cell_type": "code",
   "execution_count": 1,
   "id": "4dffcf73",
   "metadata": {},
   "outputs": [],
   "source": [
    "import requests\n",
    "import json"
   ]
  },
  {
   "cell_type": "code",
   "execution_count": 3,
   "id": "fdc9e7a7",
   "metadata": {},
   "outputs": [
    {
     "ename": "IndentationError",
     "evalue": "expected an indented block (<ipython-input-3-445bf246c0cf>, line 28)",
     "output_type": "error",
     "traceback": [
      "\u001b[1;36m  File \u001b[1;32m\"<ipython-input-3-445bf246c0cf>\"\u001b[1;36m, line \u001b[1;32m28\u001b[0m\n\u001b[1;33m    print(f'{e}')\u001b[0m\n\u001b[1;37m    ^\u001b[0m\n\u001b[1;31mIndentationError\u001b[0m\u001b[1;31m:\u001b[0m expected an indented block\n"
     ]
    }
   ],
   "source": [
    "try:\n",
    "    #EndpointKey\n",
    "    key = '7c87613c-9179-4696-ad5e-a4e3105260c3'\n",
    "    endpoint = 'https://daeguqnamaker.azurewebsites.net' # such as 'westus2.api.cognitive.microsoft.com'\n",
    "    #knowledge\n",
    "    appId = 'd78d6819-4ca2-4cb5-825e-be6657d12a15'\n",
    "    utterance = '시티투어 버스가 타고 싶어요'\n",
    "\n",
    "    headers = {\n",
    "    }\n",
    "\n",
    "    params ={\n",
    "        'query': utterance,\n",
    "        'timezoneOffset': '0',\n",
    "        'verbose': 'true',\n",
    "        'show-all-intents': 'true',\n",
    "        'spellCheck': 'false',\n",
    "        'staging': 'false',\n",
    "        'subscription-key': key\n",
    "    }\n",
    "\n",
    "    str = '%s/luis/v2.0/apps/%s?verbose=true&timezoneOffset=0&subscription-key=%s&q=%s'% (endpoint, appId, key,utterance)\n",
    "    print(str)\n",
    "    r = requests.get(str)\n",
    "    print(r)\n",
    "\n",
    "except Exception as e:\n",
    "print(f'{e}')"
   ]
  },
  {
   "cell_type": "code",
   "execution_count": null,
   "id": "d3a83ef4",
   "metadata": {},
   "outputs": [],
   "source": []
  }
 ],
 "metadata": {
  "kernelspec": {
   "display_name": "Python 3",
   "language": "python",
   "name": "python3"
  },
  "language_info": {
   "codemirror_mode": {
    "name": "ipython",
    "version": 3
   },
   "file_extension": ".py",
   "mimetype": "text/x-python",
   "name": "python",
   "nbconvert_exporter": "python",
   "pygments_lexer": "ipython3",
   "version": "3.8.8"
  }
 },
 "nbformat": 4,
 "nbformat_minor": 5
}
