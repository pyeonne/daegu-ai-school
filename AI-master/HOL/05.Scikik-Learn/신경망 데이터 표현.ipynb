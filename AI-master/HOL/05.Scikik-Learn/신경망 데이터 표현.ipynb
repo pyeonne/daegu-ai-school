{
 "cells": [
  {
   "cell_type": "markdown",
   "id": "1c760f55",
   "metadata": {},
   "source": [
    "# 신경망 데이터 표현"
   ]
  },
  {
   "cell_type": "code",
   "execution_count": 1,
   "id": "a30677b6",
   "metadata": {},
   "outputs": [],
   "source": [
    "import numpy as np\n",
    "import matplotlib.pyplot as plt\n",
    "plt.style.use(['seaborn-whitegrid'])"
   ]
  },
  {
   "cell_type": "markdown",
   "id": "6bc88d83",
   "metadata": {},
   "source": [
    "## 텐서(Tensor)\n",
    "- 일반적으로 텐서는 3차원 이상을 다룰 때 표현하는 방식이지만, 여기서는 어떠한 데이터를 표현할 때, 그 값 모두를 텐서라고 부르기로 함\n",
    "\n",
    "        a = np.array([1, 2])\n",
    "        b = np.array([[1, 2], [3, 4]])\n",
    "        c = np.array([10])\n",
    "        d = np.array(3)\n",
    "\n",
    "        # a, b, c, d 모두 텐서라고 지칭할 수 있음\n",
    "\n",
    "- 랭크(rank): 텐서의 축을 나타내고, 넘파이(numpy)의 `ndim`으로 구할 수 있음\n",
    "\n",
    "        a = np.array([1, 2])\n",
    "            >> ndim = 1\n",
    "        b = np.array([[1, 2],  [3, 4]])\n",
    "            >> ndim = 2\n",
    "        d = np.array(3)\n",
    "            >> ndim = 0\n",
    "\n",
    "        # 위의 예시에서 알 수 있듯이 대괄호( [ ] )의 개수가 곧 랭크(축)의 값\n",
    "\n",
    "- 크기(shape): 텐서의 각 축을 따라 얼마나 많은 차원이 있는지를 나타내며, 파이썬의 튜플(tuple) 형태"
   ]
  },
  {
   "cell_type": "markdown",
   "id": "cb6d7760",
   "metadata": {},
   "source": [
    "## 그림으로 이해하기\n",
    "![array](https://www.oreilly.com/library/view/elegant-scipy/9781491922927/assets/elsp_0105.png)\n",
    "<br /><sub>출처: https://www.oreilly.com/library/view/elegant-scipy/9781491922927/ch01.html"
   ]
  },
  {
   "cell_type": "code",
   "execution_count": 2,
   "id": "2370917a",
   "metadata": {},
   "outputs": [
    {
     "name": "stdout",
     "output_type": "stream",
     "text": [
      "3\n",
      "()\n",
      "0\n"
     ]
    }
   ],
   "source": [
    "# 0차원 텐서\n",
    "\n",
    "x = np.array(3)\n",
    "print(x)\n",
    "print(x.shape)    # 0차원은 모양이 없기 때문에 빈 값으로 나옴\n",
    "print(np.ndim(x)) # 0차원이므로 값은 0"
   ]
  },
  {
   "cell_type": "code",
   "execution_count": 3,
   "id": "26e1ca02",
   "metadata": {},
   "outputs": [
    {
     "name": "stdout",
     "output_type": "stream",
     "text": [
      "[ 6  8 10 12]\n",
      "(4,)\n",
      "1\n"
     ]
    }
   ],
   "source": [
    "a = np.array([1,2,3,4])  # 1차원 텐서\n",
    "b = np.array([5,6,7,8])  # 1차원 텐서\n",
    "c = a + b\n",
    "\n",
    "print(c)          # 같은 요소들끼리 더해짐\n",
    "print(c.shape)    # 1차원 텐서이기 때문에 앞에 값만 있는 것\n",
    "print(np.ndim(c)) # 1차원이므로 값은 1"
   ]
  },
  {
   "cell_type": "markdown",
   "id": "789796a1",
   "metadata": {},
   "source": [
    "### 벡터의 곱\n",
    "- $A = (x_1, \\ x_2, \\ x3, \\ ..., \\ x_n)$\n",
    "   $B = (y_1, \\ y_2, \\ y3, \\ ..., \\ y_n)$ 일 때,\n",
    "- 원소곱\n",
    "    - 같은 형상(shape)일 때, 각 원소별로 계산\n",
    "    \n",
    "        $A \\times B = (x_1, \\ x_2, \\ x_3, \\ ..., \\ x_n) \\times (y_1, \\ y_2, \\ y_3, \\ ..., \\ y_n) \\\\\n",
    "                    \\qquad = (x_1y_1, \\ x_2y_2, \\ x_3y_3, \\ ... \\ , \\ x_ny_n) $\n",
    "\n",
    "- 벡터곱(product, dot)\n",
    "    - 두 1차원 벡터가 있을 때 **각각의 성분끼리의 곱을 모두 더하는 계산**\n",
    "    \n",
    "        $A \\bullet B \\Rightarrow A \\times B^T = (x_1, \\ x_2, \\ x_3, \\ ..., \\ x_n) \\begin{pmatrix} y_1 \\\\ y_2 \\\\ y_3 \\\\ ... \\\\ y_n \\end{pmatrix} \\\\\n",
    "\\qquad = (x_1y_1 + \\ x_2y_2 + \\ x_3y_3 + \\ ... + \\ x_ny_n) $"
   ]
  },
  {
   "cell_type": "code",
   "execution_count": 4,
   "id": "058a14d1",
   "metadata": {},
   "outputs": [
    {
     "name": "stdout",
     "output_type": "stream",
     "text": [
      "[ 5 12 21 32]\n",
      "(4,)\n",
      "1\n",
      "------------------------\n",
      "4\n",
      "()\n",
      "0\n"
     ]
    }
   ],
   "source": [
    "a = np.array([1,2,3,4])\n",
    "b = np.array([5,6,7,8])\n",
    "c = a * b\n",
    "\n",
    "print(c)\n",
    "print(c.shape)\n",
    "print(np.ndim(c))\n",
    "print('------------------------')\n",
    "\n",
    "x = np.array([1,2,0])\n",
    "y = np.array([0,2,1])\n",
    "z = np.dot(x,y)  # 'dot' 연산은 같은 요소끼리 곱한 후 합한 값을 도출\n",
    "\n",
    "print(z)\n",
    "print(z.shape)\n",
    "print(np.ndim(z))"
   ]
  },
  {
   "cell_type": "code",
   "execution_count": 5,
   "id": "9a71acb0",
   "metadata": {},
   "outputs": [
    {
     "name": "stdout",
     "output_type": "stream",
     "text": [
      "[10 20 30]\n"
     ]
    }
   ],
   "source": [
    "a = np.array(10)\n",
    "b = np.array([1, 2, 3])\n",
    "\n",
    "print(a*b)  # a의 요소가 하나더라도 b의 각 요소에 곱해짐"
   ]
  },
  {
   "cell_type": "code",
   "execution_count": 6,
   "id": "3d6467cb",
   "metadata": {},
   "outputs": [
    {
     "name": "stdout",
     "output_type": "stream",
     "text": [
      "[[1 2 3]\n",
      " [4 5 6]]\n",
      "(2, 3)\n",
      "2\n",
      "-----------------\n",
      "[[1 2 3 4]]\n",
      "(1, 4)\n",
      "2\n"
     ]
    }
   ],
   "source": [
    "# 2차원 텐서의 모양\n",
    "matrix = np.array([[1,2,3],\n",
    "                  [4,5,6]])\n",
    "\n",
    "print(matrix) # 2차원 배열이 나옴\n",
    "print(matrix.shape)\n",
    "print(np.ndim(matrix))\n",
    "print('-----------------')\n",
    "\n",
    "matrix2 = np.array([[1,2,3,4]]) # '[]'(꺽쇠)가 하나 더 있어 차원 안에 차원이 하나 더 있다는 의미\n",
    "print(matrix2)\n",
    "print(matrix2.shape)\n",
    "print(np.ndim(matrix2))         # 1차원으로 착각할 수 있으니 주의"
   ]
  },
  {
   "cell_type": "markdown",
   "id": "1a4c49da",
   "metadata": {},
   "source": [
    "## 3차원 텐서\n",
    "- 보통 이미지를 나타낼 때 사용되는 텐서\n",
    "    - (width, height, channels)\n",
    "    - 일반적으로 Numpy array로 표현\n",
    "    ![3d tensor](https://image.slidesharecdn.com/tensordecomposition-170301235239/95/a-brief-survey-of-tensors-5-638.jpg)\n",
    "    <br /><sub>출처: https://www.slideshare.net/BertonEarnshaw/a-brief-survey-of-tensors\n",
    "- 시계열 데이터 또는 시퀀스(sequence) 데이터를 표현할 때도 사용\n",
    "    - (samples, timesteps, features)\n",
    "    - (예시) 주식 가격 데이터셋, 시간에 따른 질병 발병 건수\n",
    "![](https://kr.mathworks.com/help/deeplearning/examples/timeseriesforecastingusingdeeplearningexample_01_ko_KR.png)\n",
    "<br /><sub>출처: https://kr.mathworks.com/help/deeplearning/examples/time-series-forecasting-using-deep-learning.html"
   ]
  },
  {
   "cell_type": "code",
   "execution_count": null,
   "id": "103e3655",
   "metadata": {},
   "outputs": [],
   "source": []
  }
 ],
 "metadata": {
  "kernelspec": {
   "display_name": "Python 3",
   "language": "python",
   "name": "python3"
  },
  "language_info": {
   "codemirror_mode": {
    "name": "ipython",
    "version": 3
   },
   "file_extension": ".py",
   "mimetype": "text/x-python",
   "name": "python",
   "nbconvert_exporter": "python",
   "pygments_lexer": "ipython3",
   "version": "3.8.8"
  }
 },
 "nbformat": 4,
 "nbformat_minor": 5
}
