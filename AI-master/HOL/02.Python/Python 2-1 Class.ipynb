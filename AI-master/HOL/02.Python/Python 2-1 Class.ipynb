{
 "cells": [
  {
   "cell_type": "markdown",
   "id": "43e9b3eb",
   "metadata": {},
   "source": [
    "# Class의 사용법"
   ]
  },
  {
   "cell_type": "code",
   "execution_count": 1,
   "id": "c86158c9",
   "metadata": {},
   "outputs": [
    {
     "data": {
      "text/plain": [
       "'\\nfunction() --> class\\nfunction() --> 기능\\nClass --> 객체 (인간, 꽃, 말) Object Oriented Programming(OPP) 객체지향 프로그래밍\\nClass \\n    기능(행동)Method  : 함수()--> 말.달린다() 말.먹는다() 말.잔다()\\n    속성      Property: 변수  --> 말.이름 말.나이 말.색깔\\n'"
      ]
     },
     "execution_count": 1,
     "metadata": {},
     "output_type": "execute_result"
    }
   ],
   "source": [
    "\"\"\"\n",
    "function() --> class\n",
    "function() --> 기능\n",
    "Class --> 객체 (인간, 꽃, 말) Object Oriented Programming(OPP) 객체지향 프로그래밍\n",
    "Class \n",
    "    기능(행동)Method  : 함수()--> 말.달린다() 말.먹는다() 말.잔다()\n",
    "    속성      Property: 변수  --> 말.이름 말.나이 말.색깔\n",
    "\"\"\""
   ]
  },
  {
   "cell_type": "code",
   "execution_count": 9,
   "id": "dd5af85a",
   "metadata": {},
   "outputs": [],
   "source": [
    "class Person:\n",
    "    \n",
    "    #속성\n",
    "    Name = \"Default Name\"\n",
    "    \n",
    "    #행동\n",
    "    def Print(self):\n",
    "        print('My name is {0}'.format(self.Name))"
   ]
  },
  {
   "cell_type": "code",
   "execution_count": 10,
   "id": "9824913e",
   "metadata": {},
   "outputs": [],
   "source": [
    "p1 = Person()   #instance화 시킨다"
   ]
  },
  {
   "cell_type": "code",
   "execution_count": 11,
   "id": "68a4decf",
   "metadata": {},
   "outputs": [
    {
     "name": "stdout",
     "output_type": "stream",
     "text": [
      "My name is Default Name\n"
     ]
    }
   ],
   "source": [
    "p1.Print()"
   ]
  },
  {
   "cell_type": "code",
   "execution_count": 12,
   "id": "aa5dbbe2",
   "metadata": {},
   "outputs": [],
   "source": [
    "p2 = Person()"
   ]
  },
  {
   "cell_type": "code",
   "execution_count": 13,
   "id": "ab9e62a5",
   "metadata": {},
   "outputs": [],
   "source": [
    "p1.Name = \"아이유\""
   ]
  },
  {
   "cell_type": "code",
   "execution_count": 14,
   "id": "7d5e8273",
   "metadata": {},
   "outputs": [],
   "source": [
    "p2.Name = '박보검'"
   ]
  },
  {
   "cell_type": "code",
   "execution_count": 15,
   "id": "ed43913c",
   "metadata": {},
   "outputs": [
    {
     "name": "stdout",
     "output_type": "stream",
     "text": [
      "My name is 아이유\n"
     ]
    }
   ],
   "source": [
    "p1.Print()"
   ]
  },
  {
   "cell_type": "code",
   "execution_count": 16,
   "id": "cf475284",
   "metadata": {},
   "outputs": [
    {
     "name": "stdout",
     "output_type": "stream",
     "text": [
      "My name is 박보검\n"
     ]
    }
   ],
   "source": [
    "p2.Print()"
   ]
  },
  {
   "cell_type": "code",
   "execution_count": 17,
   "id": "9c975c05",
   "metadata": {},
   "outputs": [],
   "source": [
    "Person.title = 'New title'   #Python은 Class의 새로운 속성을 추가할 수 있다"
   ]
  },
  {
   "cell_type": "code",
   "execution_count": 18,
   "id": "e9817562",
   "metadata": {},
   "outputs": [
    {
     "data": {
      "text/plain": [
       "'New title'"
      ]
     },
     "execution_count": 18,
     "metadata": {},
     "output_type": "execute_result"
    }
   ],
   "source": [
    "p1.title"
   ]
  },
  {
   "cell_type": "code",
   "execution_count": 19,
   "id": "74c670ca",
   "metadata": {},
   "outputs": [],
   "source": [
    "p1.age = 20"
   ]
  },
  {
   "cell_type": "code",
   "execution_count": 20,
   "id": "cfb1bdea",
   "metadata": {},
   "outputs": [
    {
     "data": {
      "text/plain": [
       "20"
      ]
     },
     "execution_count": 20,
     "metadata": {},
     "output_type": "execute_result"
    }
   ],
   "source": [
    "p1.age"
   ]
  },
  {
   "cell_type": "code",
   "execution_count": 21,
   "id": "4f5285bb",
   "metadata": {},
   "outputs": [
    {
     "ename": "AttributeError",
     "evalue": "'Person' object has no attribute 'age'",
     "output_type": "error",
     "traceback": [
      "\u001b[1;31m---------------------------------------------------------------------------\u001b[0m",
      "\u001b[1;31mAttributeError\u001b[0m                            Traceback (most recent call last)",
      "\u001b[1;32m<ipython-input-21-df2090e07939>\u001b[0m in \u001b[0;36m<module>\u001b[1;34m\u001b[0m\n\u001b[1;32m----> 1\u001b[1;33m \u001b[0mp2\u001b[0m\u001b[1;33m.\u001b[0m\u001b[0mage\u001b[0m\u001b[1;33m\u001b[0m\u001b[1;33m\u001b[0m\u001b[0m\n\u001b[0m",
      "\u001b[1;31mAttributeError\u001b[0m: 'Person' object has no attribute 'age'"
     ]
    }
   ],
   "source": [
    "p2.age"
   ]
  },
  {
   "cell_type": "markdown",
   "id": "5953ac0b",
   "metadata": {},
   "source": [
    "# 클래스의 상속"
   ]
  },
  {
   "cell_type": "code",
   "execution_count": 22,
   "id": "28a7e328",
   "metadata": {},
   "outputs": [],
   "source": [
    "class Person:\n",
    "    pass"
   ]
  },
  {
   "cell_type": "code",
   "execution_count": 25,
   "id": "0e706f3b",
   "metadata": {},
   "outputs": [],
   "source": [
    "class Bird:\n",
    "    pass"
   ]
  },
  {
   "cell_type": "code",
   "execution_count": 26,
   "id": "1cc39032",
   "metadata": {},
   "outputs": [],
   "source": [
    "class Student(Person):\n",
    "    pass"
   ]
  },
  {
   "cell_type": "code",
   "execution_count": 27,
   "id": "21203adb",
   "metadata": {},
   "outputs": [],
   "source": [
    "p = Person()\n",
    "s = Student()"
   ]
  },
  {
   "cell_type": "code",
   "execution_count": 28,
   "id": "0751e384",
   "metadata": {},
   "outputs": [
    {
     "data": {
      "text/plain": [
       "True"
      ]
     },
     "execution_count": 28,
     "metadata": {},
     "output_type": "execute_result"
    }
   ],
   "source": [
    "isinstance(p,Person)"
   ]
  },
  {
   "cell_type": "code",
   "execution_count": 29,
   "id": "d8f30d11",
   "metadata": {},
   "outputs": [
    {
     "data": {
      "text/plain": [
       "True"
      ]
     },
     "execution_count": 29,
     "metadata": {},
     "output_type": "execute_result"
    }
   ],
   "source": [
    "isinstance(s,Student)"
   ]
  },
  {
   "cell_type": "code",
   "execution_count": 30,
   "id": "95abe3ac",
   "metadata": {},
   "outputs": [
    {
     "data": {
      "text/plain": [
       "True"
      ]
     },
     "execution_count": 30,
     "metadata": {},
     "output_type": "execute_result"
    }
   ],
   "source": [
    "isinstance(p, object)"
   ]
  },
  {
   "cell_type": "code",
   "execution_count": 31,
   "id": "c9897042",
   "metadata": {},
   "outputs": [
    {
     "data": {
      "text/plain": [
       "False"
      ]
     },
     "execution_count": 31,
     "metadata": {},
     "output_type": "execute_result"
    }
   ],
   "source": [
    "isinstance(p, Bird)"
   ]
  },
  {
   "cell_type": "code",
   "execution_count": 32,
   "id": "fdb40008",
   "metadata": {},
   "outputs": [
    {
     "data": {
      "text/plain": [
       "True"
      ]
     },
     "execution_count": 32,
     "metadata": {},
     "output_type": "execute_result"
    }
   ],
   "source": [
    "isinstance(int, object)"
   ]
  },
  {
   "cell_type": "markdown",
   "id": "e37f4729",
   "metadata": {},
   "source": [
    "## 생성자 소멸자 메소드"
   ]
  },
  {
   "cell_type": "code",
   "execution_count": 45,
   "id": "ce7348f1",
   "metadata": {},
   "outputs": [],
   "source": [
    "class MyClass:\n",
    "    #생성자\n",
    "    def __init__(self, value):\n",
    "        self.value = value\n",
    "        print('Class is Created Value = ', value)\n",
    "    \n",
    "    #생성자 여러개 생성 가능, 파라미터 다른 값 적용\n",
    "    def __init__(self, name, age):\n",
    "        self.Name = name\n",
    "        self.Age = age\n",
    "        print('닝겐의 이름은 {0}이고 나이는 {1}'.format(self.Name, self.Age))\n",
    "    \n",
    "    #소멸자\n",
    "    def __del__(self):\n",
    "        print('Class is deleted')"
   ]
  },
  {
   "cell_type": "code",
   "execution_count": 48,
   "id": "4443a4f3",
   "metadata": {},
   "outputs": [
    {
     "name": "stdout",
     "output_type": "stream",
     "text": [
      "닝겐의 이름은 아이유이고 나이는 28\n"
     ]
    }
   ],
   "source": [
    "p1 = MyClass('아이유', 28)"
   ]
  },
  {
   "cell_type": "code",
   "execution_count": 36,
   "id": "71996cd4",
   "metadata": {},
   "outputs": [
    {
     "name": "stdout",
     "output_type": "stream",
     "text": [
      "Class is Created Value =  10\n"
     ]
    }
   ],
   "source": [
    "m = MyClass(10)"
   ]
  },
  {
   "cell_type": "code",
   "execution_count": 37,
   "id": "83cbdb34",
   "metadata": {},
   "outputs": [
    {
     "name": "stdout",
     "output_type": "stream",
     "text": [
      "Class is deleted\n"
     ]
    }
   ],
   "source": [
    "del m"
   ]
  },
  {
   "cell_type": "code",
   "execution_count": 41,
   "id": "00ac01a2",
   "metadata": {},
   "outputs": [],
   "source": [
    "class CounterManager:\n",
    "    insCount = 0\n",
    "    \n",
    "    def __init__(self):\n",
    "        CounterManager.insCount += 1\n",
    "    def __printInstanceCount():\n",
    "        print('Instance Count:', CounterManager.insCount)"
   ]
  },
  {
   "cell_type": "code",
   "execution_count": 42,
   "id": "b8126653",
   "metadata": {},
   "outputs": [],
   "source": [
    "p = CounterManager()"
   ]
  },
  {
   "cell_type": "code",
   "execution_count": 43,
   "id": "457709b5",
   "metadata": {},
   "outputs": [
    {
     "ename": "AttributeError",
     "evalue": "'CounterManager' object has no attribute 'printInstanceCount'",
     "output_type": "error",
     "traceback": [
      "\u001b[1;31m---------------------------------------------------------------------------\u001b[0m",
      "\u001b[1;31mAttributeError\u001b[0m                            Traceback (most recent call last)",
      "\u001b[1;32m<ipython-input-43-7dcdc547c7c7>\u001b[0m in \u001b[0;36m<module>\u001b[1;34m\u001b[0m\n\u001b[1;32m----> 1\u001b[1;33m \u001b[0mp\u001b[0m\u001b[1;33m.\u001b[0m\u001b[0mprintInstanceCount\u001b[0m\u001b[1;33m(\u001b[0m\u001b[1;33m)\u001b[0m\u001b[1;33m\u001b[0m\u001b[1;33m\u001b[0m\u001b[0m\n\u001b[0m",
      "\u001b[1;31mAttributeError\u001b[0m: 'CounterManager' object has no attribute 'printInstanceCount'"
     ]
    }
   ],
   "source": [
    "p.printInstanceCount()"
   ]
  },
  {
   "cell_type": "code",
   "execution_count": 49,
   "id": "871ac8fd",
   "metadata": {},
   "outputs": [],
   "source": [
    "class CounterManager:\n",
    "    insCount = 0\n",
    "    \n",
    "    def __init__(self):\n",
    "        CounterManager.insCount += 1\n",
    "    def staticPrintCount():\n",
    "        print('Instance Count:', CounterManager.insCount)\n",
    "        \n",
    "    SPrintCount = staticmethod(staticPrintCount)   \n",
    "    # 정적메소드\n",
    "    # 메모리 상에 상주하고있어 사용할 때 편리하나 사용하지 않아도 메모리를 항상 차지하고 있는 것이 단점이다"
   ]
  },
  {
   "cell_type": "code",
   "execution_count": 50,
   "id": "6336bbd6",
   "metadata": {},
   "outputs": [
    {
     "name": "stdout",
     "output_type": "stream",
     "text": [
      "Instance Count: 0\n"
     ]
    }
   ],
   "source": [
    "CounterManager.SPrintCount()"
   ]
  },
  {
   "cell_type": "code",
   "execution_count": 51,
   "id": "22d7301b",
   "metadata": {},
   "outputs": [],
   "source": [
    "a, b, c = CounterManager(), CounterManager(), CounterManager()"
   ]
  },
  {
   "cell_type": "code",
   "execution_count": 52,
   "id": "5b56ea15",
   "metadata": {},
   "outputs": [
    {
     "name": "stdout",
     "output_type": "stream",
     "text": [
      "Instance Count: 3\n"
     ]
    }
   ],
   "source": [
    "CounterManager.SPrintCount()"
   ]
  },
  {
   "cell_type": "markdown",
   "id": "24e4d76b",
   "metadata": {},
   "source": [
    "# 상속"
   ]
  },
  {
   "cell_type": "code",
   "execution_count": 54,
   "id": "c81a08c6",
   "metadata": {},
   "outputs": [],
   "source": [
    "# 부모 클래스\n",
    "class Person:\n",
    "    def __init__(self, name, phone):\n",
    "        self.Name = name\n",
    "        self.Phone = phone\n",
    "        \n",
    "    def PritnInfo(self):\n",
    "        print('Info (Name: {0}, Phone: {1})'.format(self.Name, self.Phone))\n",
    "        \n",
    "    def PrintPersonData(self):\n",
    "        print('Person(Name: {0}, Phone: {1})'.format(self.Name, self.Phone))"
   ]
  },
  {
   "cell_type": "code",
   "execution_count": 55,
   "id": "4c0a0f91",
   "metadata": {},
   "outputs": [],
   "source": [
    "# 자식 클래스 = subclass\n",
    "# Person의 기능을 상속받아 메소드를 가지고 있다\n",
    "class Student(Person): \n",
    "    def __init__(self, name, phone, subject, studentID):\n",
    "        self.Name = name\n",
    "        self.Phone = phone\n",
    "        self.Subject = subject\n",
    "        self.StudentID = studentID"
   ]
  },
  {
   "cell_type": "code",
   "execution_count": 56,
   "id": "751484c1",
   "metadata": {},
   "outputs": [],
   "source": [
    "p = Person('박보검', '010-111-1111')"
   ]
  },
  {
   "cell_type": "code",
   "execution_count": 58,
   "id": "d17bf70e",
   "metadata": {},
   "outputs": [],
   "source": [
    "s = Student('아이유', '010-222-2222', 'Computer Science', '0001')"
   ]
  },
  {
   "cell_type": "code",
   "execution_count": 59,
   "id": "007c00d6",
   "metadata": {},
   "outputs": [
    {
     "data": {
      "text/plain": [
       "{'Name': '박보검', 'Phone': '010-111-1111'}"
      ]
     },
     "execution_count": 59,
     "metadata": {},
     "output_type": "execute_result"
    }
   ],
   "source": [
    "p.__dict__   # dictionary 파일을 확인할 수 있다"
   ]
  },
  {
   "cell_type": "code",
   "execution_count": 60,
   "id": "a83acc50",
   "metadata": {},
   "outputs": [
    {
     "data": {
      "text/plain": [
       "{'Name': '아이유',\n",
       " 'Phone': '010-222-2222',\n",
       " 'Subject': 'Computer Science',\n",
       " 'StudentID': '0001'}"
      ]
     },
     "execution_count": 60,
     "metadata": {},
     "output_type": "execute_result"
    }
   ],
   "source": [
    "s.__dict__"
   ]
  },
  {
   "cell_type": "code",
   "execution_count": 61,
   "id": "aaa2551c",
   "metadata": {},
   "outputs": [
    {
     "data": {
      "text/plain": [
       "True"
      ]
     },
     "execution_count": 61,
     "metadata": {},
     "output_type": "execute_result"
    }
   ],
   "source": [
    "issubclass(Student, Person)   # Student는 Person의 subclass인가?"
   ]
  },
  {
   "cell_type": "code",
   "execution_count": 62,
   "id": "ce213fa9",
   "metadata": {},
   "outputs": [
    {
     "data": {
      "text/plain": [
       "False"
      ]
     },
     "execution_count": 62,
     "metadata": {},
     "output_type": "execute_result"
    }
   ],
   "source": [
    "issubclass(Person, Student)"
   ]
  },
  {
   "cell_type": "markdown",
   "id": "d2bd2cbe",
   "metadata": {},
   "source": [
    "# 다중상속"
   ]
  },
  {
   "cell_type": "code",
   "execution_count": 63,
   "id": "f568bf79",
   "metadata": {},
   "outputs": [],
   "source": [
    "# 다중상속은 되도록이면 사용하지 않는 것을 권장한다\n",
    "class Tiger:\n",
    "    def Jump(self):\n",
    "        print('호랑이 점프')"
   ]
  },
  {
   "cell_type": "code",
   "execution_count": 64,
   "id": "061c18c5",
   "metadata": {},
   "outputs": [],
   "source": [
    "class Lion:\n",
    "    def Bite(self):\n",
    "        print('사자의 물기')"
   ]
  },
  {
   "cell_type": "code",
   "execution_count": 65,
   "id": "11843ef3",
   "metadata": {},
   "outputs": [],
   "source": [
    "class Liger(Tiger, Lion):\n",
    "    def Play(self):\n",
    "        print('라이거의 놀기')"
   ]
  },
  {
   "cell_type": "code",
   "execution_count": 66,
   "id": "a5d687cf",
   "metadata": {},
   "outputs": [],
   "source": [
    "l = Liger()"
   ]
  },
  {
   "cell_type": "code",
   "execution_count": 67,
   "id": "6327a451",
   "metadata": {},
   "outputs": [
    {
     "name": "stdout",
     "output_type": "stream",
     "text": [
      "사자의 물기\n"
     ]
    }
   ],
   "source": [
    "l.Bite()"
   ]
  },
  {
   "cell_type": "code",
   "execution_count": 68,
   "id": "518eaedf",
   "metadata": {},
   "outputs": [
    {
     "name": "stdout",
     "output_type": "stream",
     "text": [
      "호랑이 점프\n"
     ]
    }
   ],
   "source": [
    "l.Jump()"
   ]
  },
  {
   "cell_type": "code",
   "execution_count": 69,
   "id": "79b6e970",
   "metadata": {},
   "outputs": [
    {
     "name": "stdout",
     "output_type": "stream",
     "text": [
      "라이거의 놀기\n"
     ]
    }
   ],
   "source": [
    "l.Play()"
   ]
  },
  {
   "cell_type": "code",
   "execution_count": 70,
   "id": "eb56017d",
   "metadata": {},
   "outputs": [],
   "source": [
    "class Person(object):\n",
    "    pass"
   ]
  },
  {
   "cell_type": "code",
   "execution_count": null,
   "id": "c9f3d592",
   "metadata": {},
   "outputs": [],
   "source": []
  }
 ],
 "metadata": {
  "kernelspec": {
   "display_name": "Python 3",
   "language": "python",
   "name": "python3"
  },
  "language_info": {
   "codemirror_mode": {
    "name": "ipython",
    "version": 3
   },
   "file_extension": ".py",
   "mimetype": "text/x-python",
   "name": "python",
   "nbconvert_exporter": "python",
   "pygments_lexer": "ipython3",
   "version": "3.8.8"
  }
 },
 "nbformat": 4,
 "nbformat_minor": 5
}
