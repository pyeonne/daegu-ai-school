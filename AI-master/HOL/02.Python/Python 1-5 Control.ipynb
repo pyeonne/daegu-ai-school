{
 "cells": [
  {
   "cell_type": "markdown",
   "id": "0133a865",
   "metadata": {},
   "source": [
    "# 제어문"
   ]
  },
  {
   "cell_type": "code",
   "execution_count": 2,
   "id": "7d93880a",
   "metadata": {},
   "outputs": [],
   "source": [
    "value = 10"
   ]
  },
  {
   "cell_type": "code",
   "execution_count": 5,
   "id": "d2014182",
   "metadata": {},
   "outputs": [
    {
     "name": "stdout",
     "output_type": "stream",
     "text": [
      "value is bigger than 5\n"
     ]
    }
   ],
   "source": [
    "if value > 5:\n",
    "    print('value is bigger than 5')"
   ]
  },
  {
   "cell_type": "code",
   "execution_count": 6,
   "id": "4547c22e",
   "metadata": {},
   "outputs": [],
   "source": [
    "money = 10"
   ]
  },
  {
   "cell_type": "code",
   "execution_count": 7,
   "id": "da312f53",
   "metadata": {},
   "outputs": [],
   "source": [
    "if money > 100:\n",
    "    item = 'apple'\n",
    "else:\n",
    "    item = 'banana'"
   ]
  },
  {
   "cell_type": "code",
   "execution_count": 8,
   "id": "8dce5c4f",
   "metadata": {},
   "outputs": [
    {
     "data": {
      "text/plain": [
       "'banana'"
      ]
     },
     "execution_count": 8,
     "metadata": {},
     "output_type": "execute_result"
    }
   ],
   "source": [
    "item"
   ]
  },
  {
   "cell_type": "code",
   "execution_count": 19,
   "id": "833fcba8",
   "metadata": {},
   "outputs": [
    {
     "name": "stdout",
     "output_type": "stream",
     "text": [
      "input score:69\n",
      "D\n"
     ]
    }
   ],
   "source": [
    "score = int(input(('input score:')))\n",
    "\n",
    "if 90 <= score <= 100:\n",
    "    grade = 'A'\n",
    "elif 80 <= score < 90:\n",
    "    grade = 'B'\n",
    "elif 70 <= score < 80:\n",
    "    grade = 'C'\n",
    "elif 60 <= score < 70:\n",
    "    grade = 'D'\n",
    "else:\n",
    "    grade = 'F'\n",
    "print(grade)"
   ]
  },
  {
   "cell_type": "code",
   "execution_count": 15,
   "id": "b5d25b1c",
   "metadata": {},
   "outputs": [
    {
     "data": {
      "text/plain": [
       "'A'"
      ]
     },
     "execution_count": 15,
     "metadata": {},
     "output_type": "execute_result"
    }
   ],
   "source": [
    "grade"
   ]
  },
  {
   "cell_type": "markdown",
   "id": "62fc5395",
   "metadata": {},
   "source": [
    "# 조건식의 참과 거짓"
   ]
  },
  {
   "cell_type": "code",
   "execution_count": 20,
   "id": "9b4de92c",
   "metadata": {},
   "outputs": [
    {
     "data": {
      "text/plain": [
       "True"
      ]
     },
     "execution_count": 20,
     "metadata": {},
     "output_type": "execute_result"
    }
   ],
   "source": [
    "bool(True)"
   ]
  },
  {
   "cell_type": "code",
   "execution_count": 21,
   "id": "1f83c928",
   "metadata": {},
   "outputs": [
    {
     "data": {
      "text/plain": [
       "False"
      ]
     },
     "execution_count": 21,
     "metadata": {},
     "output_type": "execute_result"
    }
   ],
   "source": [
    "bool(False)"
   ]
  },
  {
   "cell_type": "code",
   "execution_count": 22,
   "id": "110bbe0b",
   "metadata": {},
   "outputs": [
    {
     "data": {
      "text/plain": [
       "True"
      ]
     },
     "execution_count": 22,
     "metadata": {},
     "output_type": "execute_result"
    }
   ],
   "source": [
    "bool(13)"
   ]
  },
  {
   "cell_type": "code",
   "execution_count": 23,
   "id": "6c2c9be0",
   "metadata": {},
   "outputs": [
    {
     "data": {
      "text/plain": [
       "False"
      ]
     },
     "execution_count": 23,
     "metadata": {},
     "output_type": "execute_result"
    }
   ],
   "source": [
    "bool(0)   # '0'은 False, 그 외의 값은 True"
   ]
  },
  {
   "cell_type": "code",
   "execution_count": 24,
   "id": "c38ee175",
   "metadata": {},
   "outputs": [
    {
     "data": {
      "text/plain": [
       "True"
      ]
     },
     "execution_count": 24,
     "metadata": {},
     "output_type": "execute_result"
    }
   ],
   "source": [
    "bool('Apple')"
   ]
  },
  {
   "cell_type": "code",
   "execution_count": 25,
   "id": "30f5399d",
   "metadata": {},
   "outputs": [
    {
     "data": {
      "text/plain": [
       "False"
      ]
     },
     "execution_count": 25,
     "metadata": {},
     "output_type": "execute_result"
    }
   ],
   "source": [
    "bool('')   # 문자는 안에 내용이 없으면 False"
   ]
  },
  {
   "cell_type": "code",
   "execution_count": 26,
   "id": "690144d7",
   "metadata": {},
   "outputs": [
    {
     "data": {
      "text/plain": [
       "False"
      ]
     },
     "execution_count": 26,
     "metadata": {},
     "output_type": "execute_result"
    }
   ],
   "source": [
    "bool(())   # 리스트도 안에 내용이 없으면 False"
   ]
  },
  {
   "cell_type": "markdown",
   "id": "cbd85a74",
   "metadata": {},
   "source": [
    "# While"
   ]
  },
  {
   "cell_type": "code",
   "execution_count": 32,
   "id": "c8ed523e",
   "metadata": {},
   "outputs": [],
   "source": [
    "value = 5"
   ]
  },
  {
   "cell_type": "code",
   "execution_count": 33,
   "id": "2dd4cf45",
   "metadata": {},
   "outputs": [
    {
     "name": "stdout",
     "output_type": "stream",
     "text": [
      "5\n",
      "4\n",
      "3\n",
      "2\n",
      "1\n"
     ]
    }
   ],
   "source": [
    "while value > 0:\n",
    "    print(value)\n",
    "    value -= 1   # value = value - 1 (탈출조건을 반드시 만들어야 무한루프에 빠지지 않는다)"
   ]
  },
  {
   "cell_type": "code",
   "execution_count": 39,
   "id": "e6192bca",
   "metadata": {},
   "outputs": [
    {
     "name": "stdout",
     "output_type": "stream",
     "text": [
      "2 X 1 = 2\n",
      "2 X 2 = 4\n",
      "2 X 3 = 6\n",
      "2 X 4 = 8\n",
      "2 X 5 = 10\n",
      "2 X 6 = 12\n",
      "2 X 7 = 14\n",
      "2 X 8 = 16\n",
      "2 X 9 = 18\n"
     ]
    }
   ],
   "source": [
    "for i in [1,2,3,4,5,6,7,8,9]:\n",
    "    print('{0} X {1} = {2}'.format(2,i,2*i))"
   ]
  },
  {
   "cell_type": "code",
   "execution_count": 37,
   "id": "13b4c645",
   "metadata": {},
   "outputs": [
    {
     "name": "stdout",
     "output_type": "stream",
     "text": [
      "10\n",
      "9\n",
      "8\n",
      "7\n",
      "6\n",
      "5\n",
      "4\n",
      "3\n",
      "2\n",
      "1\n",
      "0\n"
     ]
    }
   ],
   "source": [
    "a = 10\n",
    "while True:\n",
    "    print(a)\n",
    "    if a < 1:\n",
    "        break\n",
    "        \n",
    "    a -= 1"
   ]
  },
  {
   "cell_type": "markdown",
   "id": "21b6bbff",
   "metadata": {},
   "source": [
    "## Break, continue 그리고 else"
   ]
  },
  {
   "cell_type": "code",
   "execution_count": 40,
   "id": "7e020e95",
   "metadata": {},
   "outputs": [],
   "source": [
    "L = [1,2,3,4,5,6,7,8,9,10]"
   ]
  },
  {
   "cell_type": "code",
   "execution_count": 41,
   "id": "a229ac19",
   "metadata": {},
   "outputs": [
    {
     "name": "stdout",
     "output_type": "stream",
     "text": [
      "Item: 1\n",
      "Item: 2\n",
      "Item: 3\n",
      "Item: 4\n",
      "Item: 5\n"
     ]
    }
   ],
   "source": [
    "for i in L:\n",
    "    if i > 5:\n",
    "        break\n",
    "    print('Item: {0}'.format(i))"
   ]
  },
  {
   "cell_type": "code",
   "execution_count": 42,
   "id": "d1bdd291",
   "metadata": {},
   "outputs": [
    {
     "name": "stdout",
     "output_type": "stream",
     "text": [
      "Item: 1\n",
      "Item: 3\n",
      "Item: 5\n",
      "Item: 7\n",
      "Item: 9\n"
     ]
    }
   ],
   "source": [
    "for i in L:\n",
    "    if i % 2 == 0:\n",
    "        continue\n",
    "    print('Item: {0}'.format(i))"
   ]
  },
  {
   "cell_type": "code",
   "execution_count": 45,
   "id": "5cb17b43",
   "metadata": {},
   "outputs": [
    {
     "data": {
      "text/plain": [
       "[0, 1, 2, 3, 4, 5, 6, 7, 8, 9]"
      ]
     },
     "execution_count": 45,
     "metadata": {},
     "output_type": "execute_result"
    }
   ],
   "source": [
    "list(range(10))"
   ]
  },
  {
   "cell_type": "code",
   "execution_count": 46,
   "id": "65844233",
   "metadata": {},
   "outputs": [
    {
     "data": {
      "text/plain": [
       "[5, 6, 7, 8, 9]"
      ]
     },
     "execution_count": 46,
     "metadata": {},
     "output_type": "execute_result"
    }
   ],
   "source": [
    "list(range(5,10))"
   ]
  },
  {
   "cell_type": "code",
   "execution_count": 47,
   "id": "69a20419",
   "metadata": {},
   "outputs": [
    {
     "data": {
      "text/plain": [
       "[1, 2, 3, 4, 5, 6, 7, 8, 9]"
      ]
     },
     "execution_count": 47,
     "metadata": {},
     "output_type": "execute_result"
    }
   ],
   "source": [
    "list(range(1,10))"
   ]
  },
  {
   "cell_type": "code",
   "execution_count": 48,
   "id": "62fdb13e",
   "metadata": {},
   "outputs": [
    {
     "data": {
      "text/plain": [
       "[10, 9, 8, 7, 6, 5, 4, 3, 2]"
      ]
     },
     "execution_count": 48,
     "metadata": {},
     "output_type": "execute_result"
    }
   ],
   "source": [
    "list(range(10,1,-1))"
   ]
  },
  {
   "cell_type": "code",
   "execution_count": null,
   "id": "1364ab3b",
   "metadata": {},
   "outputs": [],
   "source": []
  }
 ],
 "metadata": {
  "kernelspec": {
   "display_name": "Python 3",
   "language": "python",
   "name": "python3"
  },
  "language_info": {
   "codemirror_mode": {
    "name": "ipython",
    "version": 3
   },
   "file_extension": ".py",
   "mimetype": "text/x-python",
   "name": "python",
   "nbconvert_exporter": "python",
   "pygments_lexer": "ipython3",
   "version": "3.8.8"
  }
 },
 "nbformat": 4,
 "nbformat_minor": 5
}
